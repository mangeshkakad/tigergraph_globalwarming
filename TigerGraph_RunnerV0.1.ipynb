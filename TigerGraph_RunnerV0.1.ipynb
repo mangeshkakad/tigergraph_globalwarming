{
  "nbformat": 4,
  "nbformat_minor": 0,
  "metadata": {
    "colab": {
      "name": "Copy of Untitled0.ipynb",
      "provenance": [],
      "collapsed_sections": [],
      "toc_visible": true,
      "authorship_tag": "ABX9TyPYz6fBJ6uzVPXculZYX0UG",
      "include_colab_link": true
    },
    "kernelspec": {
      "name": "python3",
      "display_name": "Python 3"
    },
    "language_info": {
      "name": "python"
    }
  },
  "cells": [
    {
      "cell_type": "markdown",
      "metadata": {
        "id": "view-in-github",
        "colab_type": "text"
      },
      "source": [
        "<a href=\"https://colab.research.google.com/github/mangeshkakad/tigergraph_globalwarming/blob/main/TigerGraph_RunnerV0.1.ipynb\" target=\"_parent\"><img src=\"https://colab.research.google.com/assets/colab-badge.svg\" alt=\"Open In Colab\"/></a>"
      ]
    },
    {
      "cell_type": "markdown",
      "source": [
        "# Install TigerGraph python Module"
      ],
      "metadata": {
        "id": "pvXmLHsdECuy"
      }
    },
    {
      "cell_type": "code",
      "execution_count": 2,
      "metadata": {
        "id": "DkP5Zx8WOYiT"
      },
      "outputs": [],
      "source": [
        "!pip install -q pyTigerGraph"
      ]
    },
    {
      "cell_type": "markdown",
      "source": [
        "# Import required modules to interact with TigerGraph Cloud SaaS"
      ],
      "metadata": {
        "id": "GNvmvX15EN9-"
      }
    },
    {
      "cell_type": "code",
      "source": [
        "# Imports\n",
        "import pyTigerGraph as tg\n",
        "import json\n",
        "import pandas as pd"
      ],
      "metadata": {
        "id": "tbteRcYKOoWP"
      },
      "execution_count": 3,
      "outputs": []
    },
    {
      "cell_type": "code",
      "source": [
        "pd.set_option('max_columns', None)\n",
        "def pprint(input):\n",
        "  print(json.dumps(input, indent=2))"
      ],
      "metadata": {
        "id": "Sg9ge4FIOrU1"
      },
      "execution_count": null,
      "outputs": []
    },
    {
      "cell_type": "markdown",
      "source": [
        "# Connection to tgcloud.io to interact with Solution"
      ],
      "metadata": {
        "id": "uNjuTVGBEbyR"
      }
    },
    {
      "cell_type": "code",
      "source": [
        "# Connection parameters\n",
        "hostName = \"https://e58ef4c275ea43059948c09089d35d23.i.tgcloud.io/\"\n",
        "userName = \"tigergraph\"\n",
        "password = \"\"\n",
        "\n",
        "conn = tg.TigerGraphConnection(host=hostName, username=userName, password=password)\n",
        "\n",
        "print(\"Connected\")"
      ],
      "metadata": {
        "colab": {
          "base_uri": "https://localhost:8080/"
        },
        "id": "50s5NygAOvjA",
        "outputId": "b677cc0a-3fa1-4c32-b7d3-68da729e8b9a"
      },
      "execution_count": 4,
      "outputs": [
        {
          "output_type": "stream",
          "name": "stdout",
          "text": [
            "Connected\n"
          ]
        }
      ]
    },
    {
      "cell_type": "markdown",
      "source": [
        "# Create Vertex and Edges from python module directly rather than manually doing it through TigerGraph console"
      ],
      "metadata": {
        "id": "u28HTL-JEoE2"
      }
    },
    {
      "cell_type": "code",
      "source": [
        "conn.gsql('''\n",
        "CREATE VERTEX CO2(PRIMARY_ID id STRING, co_value FLOAT, Year INT,Month INT) WITH STATS=\"OUTDEGREE_BY_EDGETYPE\", PRIMARY_ID_AS_ATTRIBUTE=\"true\"\n",
        "CREATE VERTEX Ocean_Heat(PRIMARY_ID id STRING, Ocean_heat FLOAT, Year INT,Month INT) WITH STATS=\"OUTDEGREE_BY_EDGETYPE\", PRIMARY_ID_AS_ATTRIBUTE=\"true\"\n",
        "CREATE VERTEX Arctic_Sea_Ice_Extent(PRIMARY_ID id STRING, Extent FLOAT, Year INT,Month INT) WITH STATS=\"OUTDEGREE_BY_EDGETYPE\", PRIMARY_ID_AS_ATTRIBUTE=\"true\"\n",
        "CREATE VERTEX Temperature_Anomaly(PRIMARY_ID id STRING, Temp_Anomaly FLOAT, Year INT,Month INT) WITH STATS=\"OUTDEGREE_BY_EDGETYPE\", PRIMARY_ID_AS_ATTRIBUTE=\"true\"\n",
        "CREATE VERTEX Year(PRIMARY_ID year INT) WITH STATS=\"OUTDEGREE_BY_EDGETYPE\", PRIMARY_ID_AS_ATTRIBUTE=\"true\"\n",
        "CREATE VERTEX Month(PRIMARY_ID month INT) WITH STATS=\"OUTDEGREE_BY_EDGETYPE\", PRIMARY_ID_AS_ATTRIBUTE=\"true\"\n",
        "''')"
      ],
      "metadata": {
        "colab": {
          "base_uri": "https://localhost:8080/",
          "height": 53
        },
        "id": "obul80-HPNBe",
        "outputId": "3907b7f0-1458-4e9d-de6e-0e3ce88fa09f"
      },
      "execution_count": null,
      "outputs": [
        {
          "output_type": "execute_result",
          "data": {
            "text/plain": [
              "'Successfully created vertex types: [CO2].\\nSuccessfully created vertex types: [Ocean_Heat].\\nSuccessfully created vertex types: [Arctic_Sea_Ice_Extent].\\nSuccessfully created vertex types: [Temperature_Anomaly].\\nSuccessfully created vertex types: [Year].\\nSuccessfully created vertex types: [Month].'"
            ],
            "application/vnd.google.colaboratory.intrinsic+json": {
              "type": "string"
            }
          },
          "metadata": {},
          "execution_count": 43
        }
      ]
    },
    {
      "cell_type": "code",
      "source": [
        "conn.gsql('''\n",
        "CREATE DIRECTED EDGE co2_in_year(FROM CO2, TO Year) WITH REVERSE_EDGE=\"co2_reverse_in_year\"\n",
        "CREATE DIRECTED EDGE co2_during_months(FROM CO2, TO Month) WITH REVERSE_EDGE=\"co2_reverse_during_months\"\n",
        "CREATE DIRECTED EDGE heat_in_year(FROM Ocean_Heat, TO Year) WITH REVERSE_EDGE=\"heat_reverse_in_year\"\n",
        "CREATE DIRECTED EDGE heat_during_months(FROM Ocean_Heat, TO Month) WITH REVERSE_EDGE=\"heat_reverse_during_months\"\n",
        "CREATE DIRECTED EDGE extent_in_year(FROM Arctic_Sea_Ice_Extent, TO Year) WITH REVERSE_EDGE=\"extent_reverse_in_year\"\n",
        "CREATE DIRECTED EDGE extent_during_months(FROM Arctic_Sea_Ice_Extent, TO Month) WITH REVERSE_EDGE=\"extent_reverse_during_months\"\n",
        "CREATE DIRECTED EDGE temp_in_year(FROM Temperature_Anomaly, TO Year) WITH REVERSE_EDGE=\"temp_reverse_in_year\"\n",
        "CREATE DIRECTED EDGE temp_during_months(FROM Temperature_Anomaly, TO Month) WITH REVERSE_EDGE=\"temp_reverse_during_months\"\n",
        "\n",
        "''')"
      ],
      "metadata": {
        "colab": {
          "base_uri": "https://localhost:8080/",
          "height": 105
        },
        "id": "6TrE0dFDt89l",
        "outputId": "80b16a81-6181-4c25-9f81-3dcf1a440466"
      },
      "execution_count": null,
      "outputs": [
        {
          "output_type": "execute_result",
          "data": {
            "text/plain": [
              "'Successfully created edge types: [co2_in_year].\\nSuccessfully created reverse edge types: [co2_reverse_in_year].\\nSuccessfully created edge types: [co2_during_months].\\nSuccessfully created reverse edge types: [co2_reverse_during_months].\\nSuccessfully created edge types: [heat_in_year].\\nSuccessfully created reverse edge types: [heat_reverse_in_year].\\nSuccessfully created edge types: [heat_during_months].\\nSuccessfully created reverse edge types: [heat_reverse_during_months].\\nSuccessfully created edge types: [extent_in_year].\\nSuccessfully created reverse edge types: [extent_reverse_in_year].\\nSuccessfully created edge types: [extent_during_months].\\nSuccessfully created reverse edge types: [extent_reverse_during_months].\\nSuccessfully created edge types: [temp_in_year].\\nSuccessfully created reverse edge types: [temp_reverse_in_year].\\nSuccessfully created edge types: [temp_during_months].\\nSuccessfully created reverse edge types: [temp_reverse_during_months].'"
            ],
            "application/vnd.google.colaboratory.intrinsic+json": {
              "type": "string"
            }
          },
          "metadata": {},
          "execution_count": 44
        }
      ]
    },
    {
      "cell_type": "markdown",
      "source": [
        "# Create Global Climate Change graph"
      ],
      "metadata": {
        "id": "LFstaeIFE6g2"
      }
    },
    {
      "cell_type": "code",
      "source": [
        "conn.gsql('''\n",
        "CREATE GRAPH Global_Climate_Change(CO2, Ocean_Heat, Arctic_Sea_Ice_Extent, Temperature_Anomaly, Year, Month, co2_in_year, co2_during_months, heat_in_year,heat_during_months,extent_in_year,extent_during_months,temp_in_year,temp_during_months)\n",
        "''')"
      ],
      "metadata": {
        "colab": {
          "base_uri": "https://localhost:8080/",
          "height": 35
        },
        "id": "ktqDqYgUwVb3",
        "outputId": "d7ea250f-d3e2-4a8d-b540-55b7729a5c49"
      },
      "execution_count": null,
      "outputs": [
        {
          "output_type": "execute_result",
          "data": {
            "text/plain": [
              "'The graph Global_Climate_Change is created.'"
            ],
            "application/vnd.google.colaboratory.intrinsic+json": {
              "type": "string"
            }
          },
          "metadata": {},
          "execution_count": 45
        }
      ]
    },
    {
      "cell_type": "markdown",
      "source": [
        "# Create secret token to connect through API calls"
      ],
      "metadata": {
        "id": "FzJUMbmGFLBy"
      }
    },
    {
      "cell_type": "code",
      "source": [
        "graphName = \"Global_Climate_Change\"\n",
        "conn.graphname = graphName\n",
        "secret = conn.createSecret()\n",
        "token = conn.getToken(secret, setToken=True)\n",
        "print(token[0])\n",
        "conn.apiToken = token\n",
        "print(token[0])"
      ],
      "metadata": {
        "colab": {
          "base_uri": "https://localhost:8080/"
        },
        "id": "VURcFHQExY66",
        "outputId": "7492aef5-f790-4219-e6f3-065181b3b58f"
      },
      "execution_count": 5,
      "outputs": [
        {
          "output_type": "stream",
          "name": "stdout",
          "text": [
            "8g700nnvcv2r1ngkr2put5lb0pvkaa2f\n",
            "8g700nnvcv2r1ngkr2put5lb0pvkaa2f\n"
          ]
        }
      ]
    },
    {
      "cell_type": "markdown",
      "source": [
        "# To upload data file into Google Colab"
      ],
      "metadata": {
        "id": "epfqV_s8FWuR"
      }
    },
    {
      "cell_type": "code",
      "source": [
        "from google.colab import files\n",
        "uploaded = files.upload()"
      ],
      "metadata": {
        "colab": {
          "resources": {
            "http://localhost:8080/nbextensions/google.colab/files.js": {
              "data": "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",
              "ok": true,
              "headers": [
                [
                  "content-type",
                  "application/javascript"
                ]
              ],
              "status": 200,
              "status_text": ""
            }
          },
          "base_uri": "https://localhost:8080/",
          "height": 212
        },
        "id": "tfPS6LRCy-dM",
        "outputId": "71213222-8dbe-43b1-8094-ff46d580aeba"
      },
      "execution_count": null,
      "outputs": [
        {
          "output_type": "display_data",
          "data": {
            "text/plain": [
              "<IPython.core.display.HTML object>"
            ],
            "text/html": [
              "\n",
              "     <input type=\"file\" id=\"files-ebf22e48-6519-44a1-a90f-edf263179626\" name=\"files[]\" multiple disabled\n",
              "        style=\"border:none\" />\n",
              "     <output id=\"result-ebf22e48-6519-44a1-a90f-edf263179626\">\n",
              "      Upload widget is only available when the cell has been executed in the\n",
              "      current browser session. Please rerun this cell to enable.\n",
              "      </output>\n",
              "      <script src=\"/nbextensions/google.colab/files.js\"></script> "
            ]
          },
          "metadata": {}
        },
        {
          "output_type": "stream",
          "name": "stdout",
          "text": [
            "Saving Arctic_Sea_Ice_Extent.csv to Arctic_Sea_Ice_Extent.csv\n",
            "Saving CO2.csv to CO2.csv\n",
            "Saving OCEAN_HEAT.CSV to OCEAN_HEAT.CSV\n",
            "Saving Sea_Level.csv to Sea_Level.csv\n",
            "Saving Temperature_Anomaly.csv to Temperature_Anomaly.csv\n"
          ]
        }
      ]
    },
    {
      "cell_type": "markdown",
      "source": [
        "# Verify with header that files are uploaded correctly"
      ],
      "metadata": {
        "id": "CbsvHEK9FfTN"
      }
    },
    {
      "cell_type": "code",
      "source": [
        "!head CO2.csv"
      ],
      "metadata": {
        "colab": {
          "base_uri": "https://localhost:8080/"
        },
        "id": "3kUnKqIKzqvs",
        "outputId": "153282f7-c22c-4f25-bb5d-0caa580bbf30"
      },
      "execution_count": null,
      "outputs": [
        {
          "output_type": "stream",
          "name": "stdout",
          "text": [
            "Year,Month,CO2\r\n",
            "1958,3,315.7\r\n",
            "1958,4,317.45\r\n",
            "1958,5,317.51\r\n",
            "1958,6,317.24\r\n",
            "1958,7,315.86\r\n",
            "1958,8,314.93\r\n",
            "1958,9,313.2\r\n",
            "1958,10,312.43\r\n",
            "1958,11,313.33\r\n"
          ]
        }
      ]
    },
    {
      "cell_type": "markdown",
      "source": [
        "# Create JOB to load datapoints to Vertex and Edges"
      ],
      "metadata": {
        "id": "i09z_HBRFwE1"
      }
    },
    {
      "cell_type": "code",
      "source": [
        "conn.gsql('''\n",
        "CREATE LOADING JOB data_load_co21 FOR GRAPH Global_Climate_Change {\n",
        "      DEFINE FILENAME MyDataSource;\n",
        "      LOAD MyDataSource TO VERTEX CO2 VALUES(gsql_concat($0,$1), $0,$1,$2) USING SEPARATOR=\",\", HEADER=\"true\", EOL=\"\\n\";\n",
        "    }\n",
        "''')"
      ],
      "metadata": {
        "colab": {
          "base_uri": "https://localhost:8080/",
          "height": 35
        },
        "id": "U--4jzETz0dh",
        "outputId": "791f6a1b-b736-4e31-94d8-e7ee0a028d29"
      },
      "execution_count": null,
      "outputs": [
        {
          "output_type": "execute_result",
          "data": {
            "text/plain": [
              "'Successfully created loading jobs: [data_load_co21].'"
            ],
            "application/vnd.google.colaboratory.intrinsic+json": {
              "type": "string"
            }
          },
          "metadata": {},
          "execution_count": 59
        }
      ]
    },
    {
      "cell_type": "code",
      "source": [
        "conn.gsql('''\n",
        "CREATE LOADING JOB data_load_oceanheat FOR GRAPH Global_Climate_Change {\n",
        "      DEFINE FILENAME MyDataSource;\n",
        "      LOAD MyDataSource TO VERTEX Ocean_Heat VALUES(gsql_concat($0,$1), $0,$1,$2) USING SEPARATOR=\",\", HEADER=\"true\", EOL=\"\\n\";\n",
        "    }\n",
        "''')"
      ],
      "metadata": {
        "colab": {
          "base_uri": "https://localhost:8080/",
          "height": 35
        },
        "id": "SsLqtS6dFbTx",
        "outputId": "1684e08a-a02a-4529-9271-5ec9656e7620"
      },
      "execution_count": null,
      "outputs": [
        {
          "output_type": "execute_result",
          "data": {
            "text/plain": [
              "'Successfully created loading jobs: [data_load_oceanheat].'"
            ],
            "application/vnd.google.colaboratory.intrinsic+json": {
              "type": "string"
            }
          },
          "metadata": {},
          "execution_count": 48
        }
      ]
    },
    {
      "cell_type": "code",
      "source": [
        "conn.gsql('''\n",
        "CREATE LOADING JOB data_load_seaiceextent FOR GRAPH Global_Climate_Change {\n",
        "      DEFINE FILENAME MyDataSource;\n",
        "      LOAD MyDataSource TO VERTEX Arctic_Sea_Ice_Extent VALUES(gsql_concat($0,$1),$0,$1, $2) USING SEPARATOR=\",\", HEADER=\"true\", EOL=\"\\n\";\n",
        "    }\n",
        "''')"
      ],
      "metadata": {
        "colab": {
          "base_uri": "https://localhost:8080/",
          "height": 35
        },
        "id": "coQE02GfFyf7",
        "outputId": "0ff490b5-c2bd-49cf-cb8d-5b35ea04de7a"
      },
      "execution_count": null,
      "outputs": [
        {
          "output_type": "execute_result",
          "data": {
            "text/plain": [
              "'Successfully created loading jobs: [data_load_seaiceextent].'"
            ],
            "application/vnd.google.colaboratory.intrinsic+json": {
              "type": "string"
            }
          },
          "metadata": {},
          "execution_count": 49
        }
      ]
    },
    {
      "cell_type": "code",
      "source": [
        "conn.gsql('''\n",
        "CREATE LOADING JOB data_load_tempanomaly FOR GRAPH Global_Climate_Change {\n",
        "      DEFINE FILENAME MyDataSource;\n",
        "      LOAD MyDataSource TO VERTEX Temperature_Anomaly VALUES(gsql_concat($0,$1), $0,$1,$2) USING SEPARATOR=\",\", HEADER=\"true\", EOL=\"\\n\";\n",
        "    }\n",
        "''')"
      ],
      "metadata": {
        "colab": {
          "base_uri": "https://localhost:8080/",
          "height": 35
        },
        "id": "8VAlf3pOGCBp",
        "outputId": "f8d0a283-409f-44f4-dc43-165b0cd3c4aa"
      },
      "execution_count": null,
      "outputs": [
        {
          "output_type": "execute_result",
          "data": {
            "text/plain": [
              "'Successfully created loading jobs: [data_load_tempanomaly].'"
            ],
            "application/vnd.google.colaboratory.intrinsic+json": {
              "type": "string"
            }
          },
          "metadata": {},
          "execution_count": 50
        }
      ]
    },
    {
      "cell_type": "markdown",
      "source": [
        "# Upload Carbon Footprint dataset from csv file"
      ],
      "metadata": {
        "id": "hxhzksntGGUw"
      }
    },
    {
      "cell_type": "code",
      "source": [
        "import os\n",
        "\n",
        "dataFile = 'CO2.csv'\n",
        "results = conn.uploadFile(dataFile, fileTag='MyDataSource', jobName='data_load_co21')\n",
        "print(json.dumps(results, indent=2))\n"
      ],
      "metadata": {
        "id": "Q3aQAzViCpge"
      },
      "execution_count": null,
      "outputs": []
    },
    {
      "cell_type": "code",
      "source": [
        ""
      ],
      "metadata": {
        "id": "Bxrjk594MDGb"
      },
      "execution_count": null,
      "outputs": []
    },
    {
      "cell_type": "code",
      "source": [
        "conn.gsql(\n",
        "    '''\n",
        "    USE GRAPH Global_Climate_Change\n",
        "    CREATE QUERY addYearsAndMonths() FOR GRAPH Global_Climate_Change { \n",
        "      MinAccum<INT> @currentYear;\n",
        "      MaxAccum<INT> @currentMonth;\n",
        "      co2_value = {CO2.*};\n",
        "      \n",
        "      noMonth = SELECT r FROM co2_value:r\n",
        "        WHERE\n",
        "          r.OUTDEGREE(\"co2_during_months\") == 0\n",
        "        ACCUM\n",
        "          r.@currentMonth = r.Month\n",
        "        POST-ACCUM\n",
        "          INSERT INTO co2_during_months (FROM, TO)VALUES (r.id, r.@currentMonth);\n",
        "      \n",
        "      noYear = SELECT r FROM co2_value:r\n",
        "        WHERE\n",
        "          r.OUTDEGREE(\"co2_in_year\") == 0\n",
        "        ACCUM\n",
        "          r.@currentYear = r.Year\n",
        "        POST-ACCUM\n",
        "          INSERT INTO co2_in_year (FROM, TO)VALUES (r.id, r.@currentYear);\n",
        "      \n",
        "      PRINT noYear;\n",
        "    }\n",
        "    INSTALL QUERY addYearsAndMonths\n",
        "    '''\n",
        ")"
      ],
      "metadata": {
        "colab": {
          "base_uri": "https://localhost:8080/",
          "height": 70
        },
        "id": "iDC_DfyaHpjo",
        "outputId": "1beefdf5-c3cb-45e1-c43c-8eb18b412b93"
      },
      "execution_count": null,
      "outputs": [
        {
          "output_type": "execute_result",
          "data": {
            "text/plain": [
              "'Using graph \\'Global_Climate_Change\\'\\nSuccessfully created queries: [addYearsAndMonths].\\nStart installing queries, about 1 minute ...\\naddYearsAndMonths query: curl -X GET \\'https://127.0.0.1:9000/query/Global_Climate_Change/addYearsAndMonths\\'. Add -H \"Authorization: Bearer TOKEN\" if authentication is enabled.\\nSelect \\'m1\\' as compile server, now connecting ...\\nNode \\'m1\\' is prepared as compile server.\\n\\nQuery installation finished.'"
            ],
            "application/vnd.google.colaboratory.intrinsic+json": {
              "type": "string"
            }
          },
          "metadata": {},
          "execution_count": 61
        }
      ]
    },
    {
      "cell_type": "markdown",
      "source": [
        "# Upload Ocean heat dataset from csv file"
      ],
      "metadata": {
        "id": "6tlq_fuAGTcv"
      }
    },
    {
      "cell_type": "code",
      "source": [
        "conn.gsql(\n",
        "    '''\n",
        "    USE GRAPH Global_Climate_Change\n",
        "    CREATE QUERY addYearsAndMonths_1() FOR GRAPH Global_Climate_Change { \n",
        "      MinAccum<INT> @currentYear;\n",
        "      MaxAccum<INT> @currentMonth;\n",
        "      oh_value = {Ocean_Heat.*};\n",
        "      \n",
        "      noMonth = SELECT r FROM oh_value:r\n",
        "        WHERE\n",
        "          r.OUTDEGREE(\"heat_during_months\") == 0\n",
        "        ACCUM\n",
        "          r.@currentMonth = r.Month\n",
        "        POST-ACCUM\n",
        "          INSERT INTO heat_during_months (FROM, TO)VALUES (r.id, r.@currentMonth);\n",
        "      \n",
        "      noYear = SELECT r FROM oh_value:r\n",
        "        WHERE\n",
        "          r.OUTDEGREE(\"heat_in_year\") == 0\n",
        "        ACCUM\n",
        "          r.@currentYear = r.Year\n",
        "        POST-ACCUM\n",
        "          INSERT INTO heat_in_year (FROM, TO)VALUES (r.id, r.@currentYear);\n",
        "      \n",
        "      PRINT noYear;\n",
        "    }\n",
        "    INSTALL QUERY addYearsAndMonths_1\n",
        "    '''\n",
        ")"
      ],
      "metadata": {
        "colab": {
          "base_uri": "https://localhost:8080/",
          "height": 70
        },
        "id": "1oSGIooSST47",
        "outputId": "1aa33200-50dd-43ce-8ec2-e2219ab541bb"
      },
      "execution_count": null,
      "outputs": [
        {
          "output_type": "execute_result",
          "data": {
            "text/plain": [
              "'Using graph \\'Global_Climate_Change\\'\\nSuccessfully created queries: [addYearsAndMonths_1].\\nStart installing queries, about 1 minute ...\\naddYearsAndMonths_1 query: curl -X GET \\'https://127.0.0.1:9000/query/Global_Climate_Change/addYearsAndMonths_1\\'. Add -H \"Authorization: Bearer TOKEN\" if authentication is enabled.\\nSelect \\'m1\\' as compile server, now connecting ...\\nNode \\'m1\\' is prepared as compile server.\\n\\nQuery installation finished.'"
            ],
            "application/vnd.google.colaboratory.intrinsic+json": {
              "type": "string"
            }
          },
          "metadata": {},
          "execution_count": 63
        }
      ]
    },
    {
      "cell_type": "code",
      "source": [
        "conn.runInstalledQuery('addYearsAndMonths', params={})"
      ],
      "metadata": {
        "id": "T0OLBYiCRzD7"
      },
      "execution_count": null,
      "outputs": []
    },
    {
      "cell_type": "markdown",
      "source": [
        "# Upload Tempeature Anomaly dataset from csv file"
      ],
      "metadata": {
        "id": "QG26FFF6GYgI"
      }
    },
    {
      "cell_type": "code",
      "source": [
        "conn.gsql(\n",
        "    '''\n",
        "    USE GRAPH Global_Climate_Change\n",
        "    CREATE QUERY addYearsAndMonths_2() FOR GRAPH Global_Climate_Change { \n",
        "      MinAccum<INT> @currentYear;\n",
        "      MaxAccum<INT> @currentMonth;\n",
        "      temp_value = {Temperature_Anomaly.*};\n",
        "      \n",
        "      noMonth = SELECT r FROM temp_value:r\n",
        "        WHERE\n",
        "          r.OUTDEGREE(\"temp_during_months\") == 0\n",
        "        ACCUM\n",
        "          r.@currentMonth = r.Month\n",
        "        POST-ACCUM\n",
        "          INSERT INTO temp_during_months (FROM, TO)VALUES (r.id, r.@currentMonth);\n",
        "      \n",
        "      noYear = SELECT r FROM temp_value:r\n",
        "        WHERE\n",
        "          r.OUTDEGREE(\"temp_in_year\") == 0\n",
        "        ACCUM\n",
        "          r.@currentYear = r.Year\n",
        "        POST-ACCUM\n",
        "          INSERT INTO temp_in_year (FROM, TO)VALUES (r.id, r.@currentYear);\n",
        "      \n",
        "      PRINT noYear;\n",
        "    }\n",
        "    INSTALL QUERY addYearsAndMonths_2\n",
        "    '''\n",
        ")"
      ],
      "metadata": {
        "colab": {
          "base_uri": "https://localhost:8080/",
          "height": 70
        },
        "id": "uRaD2vDPTOLc",
        "outputId": "f2e5a043-f0e9-45a4-9b60-3022b6fb3660"
      },
      "execution_count": null,
      "outputs": [
        {
          "output_type": "execute_result",
          "data": {
            "text/plain": [
              "'Using graph \\'Global_Climate_Change\\'\\nSuccessfully created queries: [addYearsAndMonths_2].\\nStart installing queries, about 1 minute ...\\naddYearsAndMonths_2 query: curl -X GET \\'https://127.0.0.1:9000/query/Global_Climate_Change/addYearsAndMonths_2\\'. Add -H \"Authorization: Bearer TOKEN\" if authentication is enabled.\\nSelect \\'m1\\' as compile server, now connecting ...\\nNode \\'m1\\' is prepared as compile server.\\n\\nQuery installation finished.'"
            ],
            "application/vnd.google.colaboratory.intrinsic+json": {
              "type": "string"
            }
          },
          "metadata": {},
          "execution_count": 67
        }
      ]
    },
    {
      "cell_type": "code",
      "source": [
        "conn.runInstalledQuery('addYearsAndMonths_1', params={})"
      ],
      "metadata": {
        "id": "MqF3_sPXTFY5"
      },
      "execution_count": null,
      "outputs": []
    },
    {
      "cell_type": "code",
      "source": [
        "conn.runInstalledQuery('addYearsAndMonths_2', params={})"
      ],
      "metadata": {
        "id": "VPj9BCGqTlYe"
      },
      "execution_count": null,
      "outputs": []
    },
    {
      "cell_type": "markdown",
      "source": [
        "# Upload Arctic Sea Ice Extent dataset from csv file"
      ],
      "metadata": {
        "id": "LfQpkVY6GgAd"
      }
    },
    {
      "cell_type": "code",
      "source": [
        "conn.gsql(\n",
        "    '''\n",
        "    USE GRAPH Global_Climate_Change\n",
        "    CREATE QUERY addYearsAndMonths_3() FOR GRAPH Global_Climate_Change { \n",
        "      MinAccum<INT> @currentYear;\n",
        "      MaxAccum<INT> @currentMonth;\n",
        "      extent_value = {Arctic_Sea_Ice_Extent.*};\n",
        "      \n",
        "      noMonth = SELECT r FROM ea_Ice_Extent.*};\n",
        "      \n",
        "      noMonth = SELECT r FROM extent_value:r\n",
        "        WHERE\n",
        "          r.OUTDEGREE(\"extent_during_months\") == 0\n",
        "        ACCUM\n",
        "          r.@currentMonth = r.Month\n",
        "        POST-ACCUM\n",
        "          INSERT INTO extent_during_months (FROM, TO)VALUES (r.id, r.@currentMonth);\n",
        "      \n",
        "      noYear = SELECT r FROM extent_value:r\n",
        "        WHERE\n",
        "          r.OUTDEGREE(\"extent_in_year\") == 0\n",
        "        ACCUM\n",
        "          r.@currentYear = r.Year\n",
        "        POST-ACCUM\n",
        "          INSERT INTO extent_in_year (FROM, TO)VALUES (r.id, r.@currentYear);\n",
        "      \n",
        "      PRINT noYear;\n",
        "    }\n",
        "    INSTALL QUERY addYearsAndMonths_3\n",
        "    '''\n",
        ")"
      ],
      "metadata": {
        "colab": {
          "base_uri": "https://localhost:8080/",
          "height": 70
        },
        "id": "SBxfP8jBUAwd",
        "outputId": "e39afda9-6eaa-4eda-cc91-2f4a180609fb"
      },
      "execution_count": null,
      "outputs": [
        {
          "output_type": "execute_result",
          "data": {
            "text/plain": [
              "'Using graph \\'Global_Climate_Change\\'\\nSuccessfully created queries: [addYearsAndMonths_3].\\nStart installing queries, about 1 minute ...\\naddYearsAndMonths_3 query: curl -X GET \\'https://127.0.0.1:9000/query/Global_Climate_Change/addYearsAndMonths_3\\'. Add -H \"Authorization: Bearer TOKEN\" if authentication is enabled.\\nSelect \\'m1\\' as compile server, now connecting ...\\nNode \\'m1\\' is prepared as compile server.\\n\\nQuery installation finished.'"
            ],
            "application/vnd.google.colaboratory.intrinsic+json": {
              "type": "string"
            }
          },
          "metadata": {},
          "execution_count": 71
        }
      ]
    },
    {
      "cell_type": "code",
      "source": [
        "conn.runInstalledQuery('addYearsAndMonths_3', params={})"
      ],
      "metadata": {
        "id": "D0GyG-IXUfL5"
      },
      "execution_count": null,
      "outputs": []
    },
    {
      "cell_type": "markdown",
      "source": [
        "# Create Query to extract data from Global_Climate_Change graph for Machine Learning"
      ],
      "metadata": {
        "id": "0L4Qf1GgGpb4"
      }
    },
    {
      "cell_type": "code",
      "metadata": {
        "id": "uo6OT5JRRv91",
        "colab": {
          "base_uri": "https://localhost:8080/",
          "height": 35
        },
        "outputId": "70eac774-926d-4118-f2c1-1d2fc32cbb52"
      },
      "source": [
        "conn.gsql(\n",
        "    '''\n",
        "    USE GRAPH Global_Climate_Change\n",
        "    CREATE QUERY getDataForMLModelv6(SET <INT> mYear) FOR GRAPH Global_Climate_Change SYNTAX v2 {\n",
        "\n",
        "          temp = SELECT ta FROM Temperature_Anomaly:ta WHERE ta.Year IN mYear ORDER BY ta.Month;\n",
        "          PRINT temp;\n",
        "      \n",
        "          co2 = SELECT co FROM CO2:co WHERE co.Year IN mYear ORDER BY co.Month;\n",
        "          PRINT co2;\n",
        "      \n",
        "          extent = SELECT ae FROM Arctic_Sea_Ice_Extent:ae WHERE ae.Year IN mYear ORDER BY ae.Month;\n",
        "          PRINT extent;\n",
        "      \n",
        "          heat = SELECT oh FROM Ocean_Heat:oh WHERE oh.Year IN mYear ORDER BY oh.Month; \n",
        "          PRINT heat;\n",
        "\n",
        "        }\n",
        "    '''\n",
        ")"
      ],
      "execution_count": null,
      "outputs": [
        {
          "output_type": "execute_result",
          "data": {
            "text/plain": [
              "\"Using graph 'Global_Climate_Change'\\nSuccessfully created queries: [getDataForMLModelv6].\""
            ],
            "application/vnd.google.colaboratory.intrinsic+json": {
              "type": "string"
            }
          },
          "metadata": {},
          "execution_count": 21
        }
      ]
    },
    {
      "cell_type": "code",
      "source": [
        "conn.gsql('''\n",
        "INSTALL QUERY getDataForMLModelv6\n",
        "''')"
      ],
      "metadata": {
        "colab": {
          "base_uri": "https://localhost:8080/",
          "height": 53
        },
        "id": "kYufEXEzAr_4",
        "outputId": "5528db00-5383-4845-cabc-b77047163674"
      },
      "execution_count": null,
      "outputs": [
        {
          "output_type": "execute_result",
          "data": {
            "text/plain": [
              "'Start installing queries, about 1 minute ...\\ngetDataForMLModelv6 query: curl -X GET \\'https://127.0.0.1:9000/query/Global_Climate_Change/getDataForMLModelv6?mYear=VALUE\\'. Add -H \"Authorization: Bearer TOKEN\" if authentication is enabled.\\nSelect \\'m1\\' as compile server, now connecting ...\\nNode \\'m1\\' is prepared as compile server.\\n\\nQuery installation finished.'"
            ],
            "application/vnd.google.colaboratory.intrinsic+json": {
              "type": "string"
            }
          },
          "metadata": {},
          "execution_count": 22
        }
      ]
    },
    {
      "cell_type": "code",
      "source": [
        "res = conn.runInstalledQuery('getDataForMLModelv6', params={\"mYear\":2008,\"mYear\":2009})"
      ],
      "metadata": {
        "id": "7shn0sT7gCWC"
      },
      "execution_count": null,
      "outputs": []
    },
    {
      "cell_type": "code",
      "source": [
        "temp = res[0][\"temp\"]\n",
        "co2 = res[1][\"co2\"]\n",
        "extent = res[2][\"extent\"]\n",
        "heat = res[3][\"heat\"]"
      ],
      "metadata": {
        "id": "wtRAEnQnBmJb"
      },
      "execution_count": null,
      "outputs": []
    },
    {
      "cell_type": "code",
      "source": [
        "conn.vertexSetToDataFrame(temp)"
      ],
      "metadata": {
        "colab": {
          "base_uri": "https://localhost:8080/",
          "height": 81
        },
        "id": "T0IYn9veBRt-",
        "outputId": "0890bfde-ce26-4c14-df46-8072e72d8160"
      },
      "execution_count": null,
      "outputs": [
        {
          "output_type": "execute_result",
          "data": {
            "text/plain": [
              "    v_id     id  Temp_Anomaly  Year  Month\n",
              "0  20091  20091          0.64  2009      1"
            ],
            "text/html": [
              "\n",
              "  <div id=\"df-83502b93-6f83-4bf5-8268-30f26cc7bcce\">\n",
              "    <div class=\"colab-df-container\">\n",
              "      <div>\n",
              "<style scoped>\n",
              "    .dataframe tbody tr th:only-of-type {\n",
              "        vertical-align: middle;\n",
              "    }\n",
              "\n",
              "    .dataframe tbody tr th {\n",
              "        vertical-align: top;\n",
              "    }\n",
              "\n",
              "    .dataframe thead th {\n",
              "        text-align: right;\n",
              "    }\n",
              "</style>\n",
              "<table border=\"1\" class=\"dataframe\">\n",
              "  <thead>\n",
              "    <tr style=\"text-align: right;\">\n",
              "      <th></th>\n",
              "      <th>v_id</th>\n",
              "      <th>id</th>\n",
              "      <th>Temp_Anomaly</th>\n",
              "      <th>Year</th>\n",
              "      <th>Month</th>\n",
              "    </tr>\n",
              "  </thead>\n",
              "  <tbody>\n",
              "    <tr>\n",
              "      <th>0</th>\n",
              "      <td>20091</td>\n",
              "      <td>20091</td>\n",
              "      <td>0.64</td>\n",
              "      <td>2009</td>\n",
              "      <td>1</td>\n",
              "    </tr>\n",
              "  </tbody>\n",
              "</table>\n",
              "</div>\n",
              "      <button class=\"colab-df-convert\" onclick=\"convertToInteractive('df-83502b93-6f83-4bf5-8268-30f26cc7bcce')\"\n",
              "              title=\"Convert this dataframe to an interactive table.\"\n",
              "              style=\"display:none;\">\n",
              "        \n",
              "  <svg xmlns=\"http://www.w3.org/2000/svg\" height=\"24px\"viewBox=\"0 0 24 24\"\n",
              "       width=\"24px\">\n",
              "    <path d=\"M0 0h24v24H0V0z\" fill=\"none\"/>\n",
              "    <path d=\"M18.56 5.44l.94 2.06.94-2.06 2.06-.94-2.06-.94-.94-2.06-.94 2.06-2.06.94zm-11 1L8.5 8.5l.94-2.06 2.06-.94-2.06-.94L8.5 2.5l-.94 2.06-2.06.94zm10 10l.94 2.06.94-2.06 2.06-.94-2.06-.94-.94-2.06-.94 2.06-2.06.94z\"/><path d=\"M17.41 7.96l-1.37-1.37c-.4-.4-.92-.59-1.43-.59-.52 0-1.04.2-1.43.59L10.3 9.45l-7.72 7.72c-.78.78-.78 2.05 0 2.83L4 21.41c.39.39.9.59 1.41.59.51 0 1.02-.2 1.41-.59l7.78-7.78 2.81-2.81c.8-.78.8-2.07 0-2.86zM5.41 20L4 18.59l7.72-7.72 1.47 1.35L5.41 20z\"/>\n",
              "  </svg>\n",
              "      </button>\n",
              "      \n",
              "  <style>\n",
              "    .colab-df-container {\n",
              "      display:flex;\n",
              "      flex-wrap:wrap;\n",
              "      gap: 12px;\n",
              "    }\n",
              "\n",
              "    .colab-df-convert {\n",
              "      background-color: #E8F0FE;\n",
              "      border: none;\n",
              "      border-radius: 50%;\n",
              "      cursor: pointer;\n",
              "      display: none;\n",
              "      fill: #1967D2;\n",
              "      height: 32px;\n",
              "      padding: 0 0 0 0;\n",
              "      width: 32px;\n",
              "    }\n",
              "\n",
              "    .colab-df-convert:hover {\n",
              "      background-color: #E2EBFA;\n",
              "      box-shadow: 0px 1px 2px rgba(60, 64, 67, 0.3), 0px 1px 3px 1px rgba(60, 64, 67, 0.15);\n",
              "      fill: #174EA6;\n",
              "    }\n",
              "\n",
              "    [theme=dark] .colab-df-convert {\n",
              "      background-color: #3B4455;\n",
              "      fill: #D2E3FC;\n",
              "    }\n",
              "\n",
              "    [theme=dark] .colab-df-convert:hover {\n",
              "      background-color: #434B5C;\n",
              "      box-shadow: 0px 1px 3px 1px rgba(0, 0, 0, 0.15);\n",
              "      filter: drop-shadow(0px 1px 2px rgba(0, 0, 0, 0.3));\n",
              "      fill: #FFFFFF;\n",
              "    }\n",
              "  </style>\n",
              "\n",
              "      <script>\n",
              "        const buttonEl =\n",
              "          document.querySelector('#df-83502b93-6f83-4bf5-8268-30f26cc7bcce button.colab-df-convert');\n",
              "        buttonEl.style.display =\n",
              "          google.colab.kernel.accessAllowed ? 'block' : 'none';\n",
              "\n",
              "        async function convertToInteractive(key) {\n",
              "          const element = document.querySelector('#df-83502b93-6f83-4bf5-8268-30f26cc7bcce');\n",
              "          const dataTable =\n",
              "            await google.colab.kernel.invokeFunction('convertToInteractive',\n",
              "                                                     [key], {});\n",
              "          if (!dataTable) return;\n",
              "\n",
              "          const docLinkHtml = 'Like what you see? Visit the ' +\n",
              "            '<a target=\"_blank\" href=https://colab.research.google.com/notebooks/data_table.ipynb>data table notebook</a>'\n",
              "            + ' to learn more about interactive tables.';\n",
              "          element.innerHTML = '';\n",
              "          dataTable['output_type'] = 'display_data';\n",
              "          await google.colab.output.renderOutput(dataTable, element);\n",
              "          const docLink = document.createElement('div');\n",
              "          docLink.innerHTML = docLinkHtml;\n",
              "          element.appendChild(docLink);\n",
              "        }\n",
              "      </script>\n",
              "    </div>\n",
              "  </div>\n",
              "  "
            ]
          },
          "metadata": {},
          "execution_count": 60
        }
      ]
    },
    {
      "cell_type": "code",
      "source": [
        "conn.vertexSetToDataFrame(co2)\n"
      ],
      "metadata": {
        "colab": {
          "base_uri": "https://localhost:8080/",
          "height": 426
        },
        "id": "bjkTyk7Oi-bn",
        "outputId": "9eaa1c4c-92b3-484e-b681-4690ab931783"
      },
      "execution_count": null,
      "outputs": [
        {
          "output_type": "execute_result",
          "data": {
            "text/plain": [
              "      v_id      id   co_value  Year  Month\n",
              "0    20131   20131  395.78000  2013      1\n",
              "1    20132   20132  397.03000  2013      2\n",
              "2    20133   20133  397.66000  2013      3\n",
              "3    20134   20134  398.64001  2013      4\n",
              "4    20135   20135  400.01999  2013      5\n",
              "5    20136   20136  398.81000  2013      6\n",
              "6    20137   20137  397.51001  2013      7\n",
              "7    20138   20138  395.39001  2013      8\n",
              "8    20139   20139  393.72000  2013      9\n",
              "9   201310  201310  393.89999  2013     10\n",
              "10  201311  201311  395.35999  2013     11\n",
              "11  201312  201312  397.03000  2013     12"
            ],
            "text/html": [
              "\n",
              "  <div id=\"df-adeee0a6-9fbe-44e1-b1f7-800285dd3185\">\n",
              "    <div class=\"colab-df-container\">\n",
              "      <div>\n",
              "<style scoped>\n",
              "    .dataframe tbody tr th:only-of-type {\n",
              "        vertical-align: middle;\n",
              "    }\n",
              "\n",
              "    .dataframe tbody tr th {\n",
              "        vertical-align: top;\n",
              "    }\n",
              "\n",
              "    .dataframe thead th {\n",
              "        text-align: right;\n",
              "    }\n",
              "</style>\n",
              "<table border=\"1\" class=\"dataframe\">\n",
              "  <thead>\n",
              "    <tr style=\"text-align: right;\">\n",
              "      <th></th>\n",
              "      <th>v_id</th>\n",
              "      <th>id</th>\n",
              "      <th>co_value</th>\n",
              "      <th>Year</th>\n",
              "      <th>Month</th>\n",
              "    </tr>\n",
              "  </thead>\n",
              "  <tbody>\n",
              "    <tr>\n",
              "      <th>0</th>\n",
              "      <td>20131</td>\n",
              "      <td>20131</td>\n",
              "      <td>395.78000</td>\n",
              "      <td>2013</td>\n",
              "      <td>1</td>\n",
              "    </tr>\n",
              "    <tr>\n",
              "      <th>1</th>\n",
              "      <td>20132</td>\n",
              "      <td>20132</td>\n",
              "      <td>397.03000</td>\n",
              "      <td>2013</td>\n",
              "      <td>2</td>\n",
              "    </tr>\n",
              "    <tr>\n",
              "      <th>2</th>\n",
              "      <td>20133</td>\n",
              "      <td>20133</td>\n",
              "      <td>397.66000</td>\n",
              "      <td>2013</td>\n",
              "      <td>3</td>\n",
              "    </tr>\n",
              "    <tr>\n",
              "      <th>3</th>\n",
              "      <td>20134</td>\n",
              "      <td>20134</td>\n",
              "      <td>398.64001</td>\n",
              "      <td>2013</td>\n",
              "      <td>4</td>\n",
              "    </tr>\n",
              "    <tr>\n",
              "      <th>4</th>\n",
              "      <td>20135</td>\n",
              "      <td>20135</td>\n",
              "      <td>400.01999</td>\n",
              "      <td>2013</td>\n",
              "      <td>5</td>\n",
              "    </tr>\n",
              "    <tr>\n",
              "      <th>5</th>\n",
              "      <td>20136</td>\n",
              "      <td>20136</td>\n",
              "      <td>398.81000</td>\n",
              "      <td>2013</td>\n",
              "      <td>6</td>\n",
              "    </tr>\n",
              "    <tr>\n",
              "      <th>6</th>\n",
              "      <td>20137</td>\n",
              "      <td>20137</td>\n",
              "      <td>397.51001</td>\n",
              "      <td>2013</td>\n",
              "      <td>7</td>\n",
              "    </tr>\n",
              "    <tr>\n",
              "      <th>7</th>\n",
              "      <td>20138</td>\n",
              "      <td>20138</td>\n",
              "      <td>395.39001</td>\n",
              "      <td>2013</td>\n",
              "      <td>8</td>\n",
              "    </tr>\n",
              "    <tr>\n",
              "      <th>8</th>\n",
              "      <td>20139</td>\n",
              "      <td>20139</td>\n",
              "      <td>393.72000</td>\n",
              "      <td>2013</td>\n",
              "      <td>9</td>\n",
              "    </tr>\n",
              "    <tr>\n",
              "      <th>9</th>\n",
              "      <td>201310</td>\n",
              "      <td>201310</td>\n",
              "      <td>393.89999</td>\n",
              "      <td>2013</td>\n",
              "      <td>10</td>\n",
              "    </tr>\n",
              "    <tr>\n",
              "      <th>10</th>\n",
              "      <td>201311</td>\n",
              "      <td>201311</td>\n",
              "      <td>395.35999</td>\n",
              "      <td>2013</td>\n",
              "      <td>11</td>\n",
              "    </tr>\n",
              "    <tr>\n",
              "      <th>11</th>\n",
              "      <td>201312</td>\n",
              "      <td>201312</td>\n",
              "      <td>397.03000</td>\n",
              "      <td>2013</td>\n",
              "      <td>12</td>\n",
              "    </tr>\n",
              "  </tbody>\n",
              "</table>\n",
              "</div>\n",
              "      <button class=\"colab-df-convert\" onclick=\"convertToInteractive('df-adeee0a6-9fbe-44e1-b1f7-800285dd3185')\"\n",
              "              title=\"Convert this dataframe to an interactive table.\"\n",
              "              style=\"display:none;\">\n",
              "        \n",
              "  <svg xmlns=\"http://www.w3.org/2000/svg\" height=\"24px\"viewBox=\"0 0 24 24\"\n",
              "       width=\"24px\">\n",
              "    <path d=\"M0 0h24v24H0V0z\" fill=\"none\"/>\n",
              "    <path d=\"M18.56 5.44l.94 2.06.94-2.06 2.06-.94-2.06-.94-.94-2.06-.94 2.06-2.06.94zm-11 1L8.5 8.5l.94-2.06 2.06-.94-2.06-.94L8.5 2.5l-.94 2.06-2.06.94zm10 10l.94 2.06.94-2.06 2.06-.94-2.06-.94-.94-2.06-.94 2.06-2.06.94z\"/><path d=\"M17.41 7.96l-1.37-1.37c-.4-.4-.92-.59-1.43-.59-.52 0-1.04.2-1.43.59L10.3 9.45l-7.72 7.72c-.78.78-.78 2.05 0 2.83L4 21.41c.39.39.9.59 1.41.59.51 0 1.02-.2 1.41-.59l7.78-7.78 2.81-2.81c.8-.78.8-2.07 0-2.86zM5.41 20L4 18.59l7.72-7.72 1.47 1.35L5.41 20z\"/>\n",
              "  </svg>\n",
              "      </button>\n",
              "      \n",
              "  <style>\n",
              "    .colab-df-container {\n",
              "      display:flex;\n",
              "      flex-wrap:wrap;\n",
              "      gap: 12px;\n",
              "    }\n",
              "\n",
              "    .colab-df-convert {\n",
              "      background-color: #E8F0FE;\n",
              "      border: none;\n",
              "      border-radius: 50%;\n",
              "      cursor: pointer;\n",
              "      display: none;\n",
              "      fill: #1967D2;\n",
              "      height: 32px;\n",
              "      padding: 0 0 0 0;\n",
              "      width: 32px;\n",
              "    }\n",
              "\n",
              "    .colab-df-convert:hover {\n",
              "      background-color: #E2EBFA;\n",
              "      box-shadow: 0px 1px 2px rgba(60, 64, 67, 0.3), 0px 1px 3px 1px rgba(60, 64, 67, 0.15);\n",
              "      fill: #174EA6;\n",
              "    }\n",
              "\n",
              "    [theme=dark] .colab-df-convert {\n",
              "      background-color: #3B4455;\n",
              "      fill: #D2E3FC;\n",
              "    }\n",
              "\n",
              "    [theme=dark] .colab-df-convert:hover {\n",
              "      background-color: #434B5C;\n",
              "      box-shadow: 0px 1px 3px 1px rgba(0, 0, 0, 0.15);\n",
              "      filter: drop-shadow(0px 1px 2px rgba(0, 0, 0, 0.3));\n",
              "      fill: #FFFFFF;\n",
              "    }\n",
              "  </style>\n",
              "\n",
              "      <script>\n",
              "        const buttonEl =\n",
              "          document.querySelector('#df-adeee0a6-9fbe-44e1-b1f7-800285dd3185 button.colab-df-convert');\n",
              "        buttonEl.style.display =\n",
              "          google.colab.kernel.accessAllowed ? 'block' : 'none';\n",
              "\n",
              "        async function convertToInteractive(key) {\n",
              "          const element = document.querySelector('#df-adeee0a6-9fbe-44e1-b1f7-800285dd3185');\n",
              "          const dataTable =\n",
              "            await google.colab.kernel.invokeFunction('convertToInteractive',\n",
              "                                                     [key], {});\n",
              "          if (!dataTable) return;\n",
              "\n",
              "          const docLinkHtml = 'Like what you see? Visit the ' +\n",
              "            '<a target=\"_blank\" href=https://colab.research.google.com/notebooks/data_table.ipynb>data table notebook</a>'\n",
              "            + ' to learn more about interactive tables.';\n",
              "          element.innerHTML = '';\n",
              "          dataTable['output_type'] = 'display_data';\n",
              "          await google.colab.output.renderOutput(dataTable, element);\n",
              "          const docLink = document.createElement('div');\n",
              "          docLink.innerHTML = docLinkHtml;\n",
              "          element.appendChild(docLink);\n",
              "        }\n",
              "      </script>\n",
              "    </div>\n",
              "  </div>\n",
              "  "
            ]
          },
          "metadata": {},
          "execution_count": 55
        }
      ]
    },
    {
      "cell_type": "code",
      "source": [
        "conn.vertexSetToDataFrame(extent)\n"
      ],
      "metadata": {
        "colab": {
          "base_uri": "https://localhost:8080/",
          "height": 81
        },
        "id": "oi3i_04oi_x8",
        "outputId": "4a671fc1-8494-4ad8-989f-7fee2b65d00e"
      },
      "execution_count": null,
      "outputs": [
        {
          "output_type": "execute_result",
          "data": {
            "text/plain": [
              "    v_id     id  Extent  Year  Month\n",
              "0  20131  20131    5.21  2013      1"
            ],
            "text/html": [
              "\n",
              "  <div id=\"df-1f03811f-a581-44fa-b066-4ff806bcbbf8\">\n",
              "    <div class=\"colab-df-container\">\n",
              "      <div>\n",
              "<style scoped>\n",
              "    .dataframe tbody tr th:only-of-type {\n",
              "        vertical-align: middle;\n",
              "    }\n",
              "\n",
              "    .dataframe tbody tr th {\n",
              "        vertical-align: top;\n",
              "    }\n",
              "\n",
              "    .dataframe thead th {\n",
              "        text-align: right;\n",
              "    }\n",
              "</style>\n",
              "<table border=\"1\" class=\"dataframe\">\n",
              "  <thead>\n",
              "    <tr style=\"text-align: right;\">\n",
              "      <th></th>\n",
              "      <th>v_id</th>\n",
              "      <th>id</th>\n",
              "      <th>Extent</th>\n",
              "      <th>Year</th>\n",
              "      <th>Month</th>\n",
              "    </tr>\n",
              "  </thead>\n",
              "  <tbody>\n",
              "    <tr>\n",
              "      <th>0</th>\n",
              "      <td>20131</td>\n",
              "      <td>20131</td>\n",
              "      <td>5.21</td>\n",
              "      <td>2013</td>\n",
              "      <td>1</td>\n",
              "    </tr>\n",
              "  </tbody>\n",
              "</table>\n",
              "</div>\n",
              "      <button class=\"colab-df-convert\" onclick=\"convertToInteractive('df-1f03811f-a581-44fa-b066-4ff806bcbbf8')\"\n",
              "              title=\"Convert this dataframe to an interactive table.\"\n",
              "              style=\"display:none;\">\n",
              "        \n",
              "  <svg xmlns=\"http://www.w3.org/2000/svg\" height=\"24px\"viewBox=\"0 0 24 24\"\n",
              "       width=\"24px\">\n",
              "    <path d=\"M0 0h24v24H0V0z\" fill=\"none\"/>\n",
              "    <path d=\"M18.56 5.44l.94 2.06.94-2.06 2.06-.94-2.06-.94-.94-2.06-.94 2.06-2.06.94zm-11 1L8.5 8.5l.94-2.06 2.06-.94-2.06-.94L8.5 2.5l-.94 2.06-2.06.94zm10 10l.94 2.06.94-2.06 2.06-.94-2.06-.94-.94-2.06-.94 2.06-2.06.94z\"/><path d=\"M17.41 7.96l-1.37-1.37c-.4-.4-.92-.59-1.43-.59-.52 0-1.04.2-1.43.59L10.3 9.45l-7.72 7.72c-.78.78-.78 2.05 0 2.83L4 21.41c.39.39.9.59 1.41.59.51 0 1.02-.2 1.41-.59l7.78-7.78 2.81-2.81c.8-.78.8-2.07 0-2.86zM5.41 20L4 18.59l7.72-7.72 1.47 1.35L5.41 20z\"/>\n",
              "  </svg>\n",
              "      </button>\n",
              "      \n",
              "  <style>\n",
              "    .colab-df-container {\n",
              "      display:flex;\n",
              "      flex-wrap:wrap;\n",
              "      gap: 12px;\n",
              "    }\n",
              "\n",
              "    .colab-df-convert {\n",
              "      background-color: #E8F0FE;\n",
              "      border: none;\n",
              "      border-radius: 50%;\n",
              "      cursor: pointer;\n",
              "      display: none;\n",
              "      fill: #1967D2;\n",
              "      height: 32px;\n",
              "      padding: 0 0 0 0;\n",
              "      width: 32px;\n",
              "    }\n",
              "\n",
              "    .colab-df-convert:hover {\n",
              "      background-color: #E2EBFA;\n",
              "      box-shadow: 0px 1px 2px rgba(60, 64, 67, 0.3), 0px 1px 3px 1px rgba(60, 64, 67, 0.15);\n",
              "      fill: #174EA6;\n",
              "    }\n",
              "\n",
              "    [theme=dark] .colab-df-convert {\n",
              "      background-color: #3B4455;\n",
              "      fill: #D2E3FC;\n",
              "    }\n",
              "\n",
              "    [theme=dark] .colab-df-convert:hover {\n",
              "      background-color: #434B5C;\n",
              "      box-shadow: 0px 1px 3px 1px rgba(0, 0, 0, 0.15);\n",
              "      filter: drop-shadow(0px 1px 2px rgba(0, 0, 0, 0.3));\n",
              "      fill: #FFFFFF;\n",
              "    }\n",
              "  </style>\n",
              "\n",
              "      <script>\n",
              "        const buttonEl =\n",
              "          document.querySelector('#df-1f03811f-a581-44fa-b066-4ff806bcbbf8 button.colab-df-convert');\n",
              "        buttonEl.style.display =\n",
              "          google.colab.kernel.accessAllowed ? 'block' : 'none';\n",
              "\n",
              "        async function convertToInteractive(key) {\n",
              "          const element = document.querySelector('#df-1f03811f-a581-44fa-b066-4ff806bcbbf8');\n",
              "          const dataTable =\n",
              "            await google.colab.kernel.invokeFunction('convertToInteractive',\n",
              "                                                     [key], {});\n",
              "          if (!dataTable) return;\n",
              "\n",
              "          const docLinkHtml = 'Like what you see? Visit the ' +\n",
              "            '<a target=\"_blank\" href=https://colab.research.google.com/notebooks/data_table.ipynb>data table notebook</a>'\n",
              "            + ' to learn more about interactive tables.';\n",
              "          element.innerHTML = '';\n",
              "          dataTable['output_type'] = 'display_data';\n",
              "          await google.colab.output.renderOutput(dataTable, element);\n",
              "          const docLink = document.createElement('div');\n",
              "          docLink.innerHTML = docLinkHtml;\n",
              "          element.appendChild(docLink);\n",
              "        }\n",
              "      </script>\n",
              "    </div>\n",
              "  </div>\n",
              "  "
            ]
          },
          "metadata": {},
          "execution_count": 56
        }
      ]
    },
    {
      "cell_type": "code",
      "source": [
        "conn.vertexSetToDataFrame(heat)"
      ],
      "metadata": {
        "colab": {
          "base_uri": "https://localhost:8080/",
          "height": 426
        },
        "id": "DFxbEGbsjA96",
        "outputId": "0ec10311-fe09-4b5d-a672-4d5f739cdd23"
      },
      "execution_count": null,
      "outputs": [
        {
          "output_type": "execute_result",
          "data": {
            "text/plain": [
              "      v_id      id  Ocean_heat  Year  Month\n",
              "0    20131   20131    14.90705  2013      1\n",
              "1    20132   20132    15.04299  2013      2\n",
              "2    20133   20133    15.07405  2013      3\n",
              "3    20134   20134    15.18344  2013      4\n",
              "4    20135   20135    15.18823  2013      5\n",
              "5    20136   20136    15.05973  2013      6\n",
              "6    20137   20137    15.23519  2013      7\n",
              "7    20138   20138    15.39749  2013      8\n",
              "8    20139   20139    15.41166  2013      9\n",
              "9   201310  201310    15.38795  2013     10\n",
              "10  201311  201311    15.36563  2013     11\n",
              "11  201312  201312    15.39110  2013     12"
            ],
            "text/html": [
              "\n",
              "  <div id=\"df-e9b6931d-cb17-4f2e-94bc-8d739fdf7468\">\n",
              "    <div class=\"colab-df-container\">\n",
              "      <div>\n",
              "<style scoped>\n",
              "    .dataframe tbody tr th:only-of-type {\n",
              "        vertical-align: middle;\n",
              "    }\n",
              "\n",
              "    .dataframe tbody tr th {\n",
              "        vertical-align: top;\n",
              "    }\n",
              "\n",
              "    .dataframe thead th {\n",
              "        text-align: right;\n",
              "    }\n",
              "</style>\n",
              "<table border=\"1\" class=\"dataframe\">\n",
              "  <thead>\n",
              "    <tr style=\"text-align: right;\">\n",
              "      <th></th>\n",
              "      <th>v_id</th>\n",
              "      <th>id</th>\n",
              "      <th>Ocean_heat</th>\n",
              "      <th>Year</th>\n",
              "      <th>Month</th>\n",
              "    </tr>\n",
              "  </thead>\n",
              "  <tbody>\n",
              "    <tr>\n",
              "      <th>0</th>\n",
              "      <td>20131</td>\n",
              "      <td>20131</td>\n",
              "      <td>14.90705</td>\n",
              "      <td>2013</td>\n",
              "      <td>1</td>\n",
              "    </tr>\n",
              "    <tr>\n",
              "      <th>1</th>\n",
              "      <td>20132</td>\n",
              "      <td>20132</td>\n",
              "      <td>15.04299</td>\n",
              "      <td>2013</td>\n",
              "      <td>2</td>\n",
              "    </tr>\n",
              "    <tr>\n",
              "      <th>2</th>\n",
              "      <td>20133</td>\n",
              "      <td>20133</td>\n",
              "      <td>15.07405</td>\n",
              "      <td>2013</td>\n",
              "      <td>3</td>\n",
              "    </tr>\n",
              "    <tr>\n",
              "      <th>3</th>\n",
              "      <td>20134</td>\n",
              "      <td>20134</td>\n",
              "      <td>15.18344</td>\n",
              "      <td>2013</td>\n",
              "      <td>4</td>\n",
              "    </tr>\n",
              "    <tr>\n",
              "      <th>4</th>\n",
              "      <td>20135</td>\n",
              "      <td>20135</td>\n",
              "      <td>15.18823</td>\n",
              "      <td>2013</td>\n",
              "      <td>5</td>\n",
              "    </tr>\n",
              "    <tr>\n",
              "      <th>5</th>\n",
              "      <td>20136</td>\n",
              "      <td>20136</td>\n",
              "      <td>15.05973</td>\n",
              "      <td>2013</td>\n",
              "      <td>6</td>\n",
              "    </tr>\n",
              "    <tr>\n",
              "      <th>6</th>\n",
              "      <td>20137</td>\n",
              "      <td>20137</td>\n",
              "      <td>15.23519</td>\n",
              "      <td>2013</td>\n",
              "      <td>7</td>\n",
              "    </tr>\n",
              "    <tr>\n",
              "      <th>7</th>\n",
              "      <td>20138</td>\n",
              "      <td>20138</td>\n",
              "      <td>15.39749</td>\n",
              "      <td>2013</td>\n",
              "      <td>8</td>\n",
              "    </tr>\n",
              "    <tr>\n",
              "      <th>8</th>\n",
              "      <td>20139</td>\n",
              "      <td>20139</td>\n",
              "      <td>15.41166</td>\n",
              "      <td>2013</td>\n",
              "      <td>9</td>\n",
              "    </tr>\n",
              "    <tr>\n",
              "      <th>9</th>\n",
              "      <td>201310</td>\n",
              "      <td>201310</td>\n",
              "      <td>15.38795</td>\n",
              "      <td>2013</td>\n",
              "      <td>10</td>\n",
              "    </tr>\n",
              "    <tr>\n",
              "      <th>10</th>\n",
              "      <td>201311</td>\n",
              "      <td>201311</td>\n",
              "      <td>15.36563</td>\n",
              "      <td>2013</td>\n",
              "      <td>11</td>\n",
              "    </tr>\n",
              "    <tr>\n",
              "      <th>11</th>\n",
              "      <td>201312</td>\n",
              "      <td>201312</td>\n",
              "      <td>15.39110</td>\n",
              "      <td>2013</td>\n",
              "      <td>12</td>\n",
              "    </tr>\n",
              "  </tbody>\n",
              "</table>\n",
              "</div>\n",
              "      <button class=\"colab-df-convert\" onclick=\"convertToInteractive('df-e9b6931d-cb17-4f2e-94bc-8d739fdf7468')\"\n",
              "              title=\"Convert this dataframe to an interactive table.\"\n",
              "              style=\"display:none;\">\n",
              "        \n",
              "  <svg xmlns=\"http://www.w3.org/2000/svg\" height=\"24px\"viewBox=\"0 0 24 24\"\n",
              "       width=\"24px\">\n",
              "    <path d=\"M0 0h24v24H0V0z\" fill=\"none\"/>\n",
              "    <path d=\"M18.56 5.44l.94 2.06.94-2.06 2.06-.94-2.06-.94-.94-2.06-.94 2.06-2.06.94zm-11 1L8.5 8.5l.94-2.06 2.06-.94-2.06-.94L8.5 2.5l-.94 2.06-2.06.94zm10 10l.94 2.06.94-2.06 2.06-.94-2.06-.94-.94-2.06-.94 2.06-2.06.94z\"/><path d=\"M17.41 7.96l-1.37-1.37c-.4-.4-.92-.59-1.43-.59-.52 0-1.04.2-1.43.59L10.3 9.45l-7.72 7.72c-.78.78-.78 2.05 0 2.83L4 21.41c.39.39.9.59 1.41.59.51 0 1.02-.2 1.41-.59l7.78-7.78 2.81-2.81c.8-.78.8-2.07 0-2.86zM5.41 20L4 18.59l7.72-7.72 1.47 1.35L5.41 20z\"/>\n",
              "  </svg>\n",
              "      </button>\n",
              "      \n",
              "  <style>\n",
              "    .colab-df-container {\n",
              "      display:flex;\n",
              "      flex-wrap:wrap;\n",
              "      gap: 12px;\n",
              "    }\n",
              "\n",
              "    .colab-df-convert {\n",
              "      background-color: #E8F0FE;\n",
              "      border: none;\n",
              "      border-radius: 50%;\n",
              "      cursor: pointer;\n",
              "      display: none;\n",
              "      fill: #1967D2;\n",
              "      height: 32px;\n",
              "      padding: 0 0 0 0;\n",
              "      width: 32px;\n",
              "    }\n",
              "\n",
              "    .colab-df-convert:hover {\n",
              "      background-color: #E2EBFA;\n",
              "      box-shadow: 0px 1px 2px rgba(60, 64, 67, 0.3), 0px 1px 3px 1px rgba(60, 64, 67, 0.15);\n",
              "      fill: #174EA6;\n",
              "    }\n",
              "\n",
              "    [theme=dark] .colab-df-convert {\n",
              "      background-color: #3B4455;\n",
              "      fill: #D2E3FC;\n",
              "    }\n",
              "\n",
              "    [theme=dark] .colab-df-convert:hover {\n",
              "      background-color: #434B5C;\n",
              "      box-shadow: 0px 1px 3px 1px rgba(0, 0, 0, 0.15);\n",
              "      filter: drop-shadow(0px 1px 2px rgba(0, 0, 0, 0.3));\n",
              "      fill: #FFFFFF;\n",
              "    }\n",
              "  </style>\n",
              "\n",
              "      <script>\n",
              "        const buttonEl =\n",
              "          document.querySelector('#df-e9b6931d-cb17-4f2e-94bc-8d739fdf7468 button.colab-df-convert');\n",
              "        buttonEl.style.display =\n",
              "          google.colab.kernel.accessAllowed ? 'block' : 'none';\n",
              "\n",
              "        async function convertToInteractive(key) {\n",
              "          const element = document.querySelector('#df-e9b6931d-cb17-4f2e-94bc-8d739fdf7468');\n",
              "          const dataTable =\n",
              "            await google.colab.kernel.invokeFunction('convertToInteractive',\n",
              "                                                     [key], {});\n",
              "          if (!dataTable) return;\n",
              "\n",
              "          const docLinkHtml = 'Like what you see? Visit the ' +\n",
              "            '<a target=\"_blank\" href=https://colab.research.google.com/notebooks/data_table.ipynb>data table notebook</a>'\n",
              "            + ' to learn more about interactive tables.';\n",
              "          element.innerHTML = '';\n",
              "          dataTable['output_type'] = 'display_data';\n",
              "          await google.colab.output.renderOutput(dataTable, element);\n",
              "          const docLink = document.createElement('div');\n",
              "          docLink.innerHTML = docLinkHtml;\n",
              "          element.appendChild(docLink);\n",
              "        }\n",
              "      </script>\n",
              "    </div>\n",
              "  </div>\n",
              "  "
            ]
          },
          "metadata": {},
          "execution_count": 57
        }
      ]
    },
    {
      "cell_type": "markdown",
      "source": [
        "# Create Query to Insert Data which can be used from python code to insert forecasted data sets"
      ],
      "metadata": {
        "id": "71rFovAVHDFJ"
      }
    },
    {
      "cell_type": "code",
      "source": [
        "conn.gsql(\n",
        "    '''\n",
        "    USE GRAPH Global_Climate_Change\n",
        "    CREATE QUERY Insert_Records(INT year , INT month, FLOAT co_value,FLOAT extent, FLOAT temp_anomaly,FLOAT Ocean_heat) FOR GRAPH Global_Climate_Change { \n",
        "      INSERT INTO CO2 (PRIMARY_ID, co_value,Year,Month) VALUES (to_string(year)+to_string(month),co_value,year,month);\n",
        "      INSERT INTO Arctic_Sea_Ice_Extent (PRIMARY_ID, Extent,Year,Month) VALUES (to_string(year)+to_string(month),extent,year,month);\n",
        "      INSERT INTO Temperature_Anomaly (PRIMARY_ID, Temp_Anomaly,Year,Month) VALUES (to_string(year)+to_string(month),temp_anomaly,year,month);\n",
        "      INSERT INTO Ocean_Heat (PRIMARY_ID, Ocean_heat,Year,Month) VALUES (to_string(year)+to_string(month),Ocean_heat,year,month);\n",
        "\n",
        "      INSERT INTO Year (PRIMARY_ID) VALUES (year);\n",
        "      INSERT INTO Month (PRIMARY_ID) VALUES (month);\n",
        "    }\n",
        "    INSTALL QUERY Insert_Records\n",
        "    '''\n",
        ")"
      ],
      "metadata": {
        "colab": {
          "base_uri": "https://localhost:8080/",
          "height": 70
        },
        "id": "Ax4k-YaT437b",
        "outputId": "0fd0ae83-28ff-4ce3-ead0-16972f03ad17"
      },
      "execution_count": null,
      "outputs": [
        {
          "output_type": "execute_result",
          "data": {
            "text/plain": [
              "'Using graph \\'Global_Climate_Change\\'\\nSuccessfully created queries: [Insert_Records].\\nStart installing queries, about 1 minute ...\\nInsert_Records query: curl -X GET \\'https://127.0.0.1:9000/query/Global_Climate_Change/Insert_Records?year=VALUE&month=VALUE&co_value=VALUE&extent=VALUE&temp_anomaly=VALUE&Ocean_heat=VALUE\\'. Add -H \"Authorization: Bearer TOKEN\" if authentication is enabled.\\nSelect \\'m1\\' as compile server, now connecting ...\\nNode \\'m1\\' is prepared as compile server.\\n\\nQuery installation finished.'"
            ],
            "application/vnd.google.colaboratory.intrinsic+json": {
              "type": "string"
            }
          },
          "metadata": {},
          "execution_count": 11
        }
      ]
    },
    {
      "cell_type": "markdown",
      "source": [
        "# Create Query to Delete Data"
      ],
      "metadata": {
        "id": "V_-NuftSHPOt"
      }
    },
    {
      "cell_type": "code",
      "source": [
        "conn.gsql(\n",
        "    '''\n",
        "    USE GRAPH Global_Climate_Change\n",
        "    CREATE QUERY Delete_Records(SET <INT> month,INT year) FOR GRAPH Global_Climate_Change {\n",
        "      C = {CO2.*};\n",
        "      A = {Arctic_Sea_Ice_Extent.*};\n",
        "      O = {Ocean_Heat.*};\n",
        "      T = {Temperature_Anomaly.*};\n",
        "\n",
        "      DELETE co FROM C:co WHERE co.Year == year AND co.Month IN month;\n",
        "      DELETE ie FROM A:ie WHERE ie.Year == year AND ie.Month IN month;\n",
        "      DELETE oh FROM O:oh WHERE oh.Year == year AND oh.Month IN month;\n",
        "      DELETE ta FROM T:ta WHERE ta.Year == year AND ta.Month IN month;\n",
        "\n",
        "    }\n",
        "    INSTALL QUERY Delete_Records\n",
        "    '''\n",
        ")"
      ],
      "metadata": {
        "colab": {
          "base_uri": "https://localhost:8080/",
          "height": 70
        },
        "id": "D13ZOht1bdQ6",
        "outputId": "daaa6752-6737-4526-ce3d-000f1113b20f"
      },
      "execution_count": null,
      "outputs": [
        {
          "output_type": "execute_result",
          "data": {
            "text/plain": [
              "'Using graph \\'Global_Climate_Change\\'\\nSuccessfully created queries: [Delete_Records].\\nStart installing queries, about 1 minute ...\\nDelete_Records query: curl -X GET \\'https://127.0.0.1:9000/query/Global_Climate_Change/Delete_Records?month=VALUE&year=VALUE\\'. Add -H \"Authorization: Bearer TOKEN\" if authentication is enabled.\\nSelect \\'m1\\' as compile server, now connecting ...\\nNode \\'m1\\' is prepared as compile server.\\n\\nQuery installation finished.'"
            ],
            "application/vnd.google.colaboratory.intrinsic+json": {
              "type": "string"
            }
          },
          "metadata": {},
          "execution_count": 12
        }
      ]
    },
    {
      "cell_type": "markdown",
      "source": [
        "# Create Query to Select Forecasted data for given year and month"
      ],
      "metadata": {
        "id": "D42F-oCoqniZ"
      }
    },
    {
      "cell_type": "code",
      "source": [
        "conn.gsql(\n",
        "    '''\n",
        "    USE GRAPH Global_Climate_Change\n",
        "    CREATE QUERY Select_Records(INT year , INT month) FOR GRAPH Global_Climate_Change { \n",
        "      C = {CO2.*};\n",
        "      A = {Arctic_Sea_Ice_Extent.*};\n",
        "      O = {Ocean_Heat.*};\n",
        "      T = {Temperature_Anomaly.*};\n",
        "      Y = {Year.*};\n",
        "      M = {Month.*};\n",
        "  \n",
        "      co_results = SELECT co FROM C:co -(co2_in_year>)- Y:y WHERE co.Year == year and co.Month == month;\n",
        "      ie_results = SELECT ie FROM A:ie -(extent_in_year>)- Y:y WHERE ie.Year == year and ie.Month == month;\n",
        "      oh_results = SELECT oh FROM O:oh -(heat_in_year>)- Y:y WHERE oh.Year == year and oh.Month == month;\n",
        "      ta_results = SELECT ta FROM T:ta -(temp_in_year>)- Y:y WHERE ta.Year == year and ta.Month == month;\n",
        "  \n",
        "      PRINT co_results;\n",
        "      PRINT ie_results;\n",
        "      PRINT oh_results;\n",
        "      PRINT ta_results;\n",
        "    }\n",
        "    INSTALL QUERY Select_Records\n",
        "    '''\n",
        ")"
      ],
      "metadata": {
        "colab": {
          "base_uri": "https://localhost:8080/",
          "height": 70
        },
        "id": "zeq3g6fwq1x6",
        "outputId": "b4644c11-3f6b-4c36-a3b6-48c13c233dd1"
      },
      "execution_count": 6,
      "outputs": [
        {
          "output_type": "execute_result",
          "data": {
            "text/plain": [
              "'Using graph \\'Global_Climate_Change\\'\\nSuccessfully created queries: [Select_Records].\\nStart installing queries, about 1 minute ...\\nSelect_Records query: curl -X GET \\'https://127.0.0.1:9000/query/Global_Climate_Change/Select_Records?year=VALUE&month=VALUE\\'. Add -H \"Authorization: Bearer TOKEN\" if authentication is enabled.\\nSelect \\'m1\\' as compile server, now connecting ...\\nNode \\'m1\\' is prepared as compile server.\\n\\nQuery installation finished.'"
            ],
            "application/vnd.google.colaboratory.intrinsic+json": {
              "type": "string"
            }
          },
          "metadata": {},
          "execution_count": 6
        }
      ]
    }
  ]
}
